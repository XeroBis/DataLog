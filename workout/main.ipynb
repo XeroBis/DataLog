{
 "cells": [
  {
   "cell_type": "code",
   "execution_count": 29,
   "metadata": {},
   "outputs": [],
   "source": [
    "import pandas as pd\n",
    "\n",
    "workout_data = pd.read_csv(\"workout_data.csv\")\n",
    "exercises = pd.read_csv(\"exercises.csv\")"
   ]
  },
  {
   "cell_type": "code",
   "execution_count": 30,
   "metadata": {},
   "outputs": [
    {
     "name": "stdout",
     "output_type": "stream",
     "text": [
      "Workout Data:\n"
     ]
    },
    {
     "data": {
      "text/html": [
       "<div>\n",
       "<style scoped>\n",
       "    .dataframe tbody tr th:only-of-type {\n",
       "        vertical-align: middle;\n",
       "    }\n",
       "\n",
       "    .dataframe tbody tr th {\n",
       "        vertical-align: top;\n",
       "    }\n",
       "\n",
       "    .dataframe thead th {\n",
       "        text-align: right;\n",
       "    }\n",
       "</style>\n",
       "<table border=\"1\" class=\"dataframe\">\n",
       "  <thead>\n",
       "    <tr style=\"text-align: right;\">\n",
       "      <th></th>\n",
       "      <th>date</th>\n",
       "      <th>id_exercice</th>\n",
       "      <th>nb_series</th>\n",
       "      <th>nb_repetition</th>\n",
       "      <th>weight</th>\n",
       "      <th>nb_bars</th>\n",
       "    </tr>\n",
       "  </thead>\n",
       "  <tbody>\n",
       "    <tr>\n",
       "      <th>0</th>\n",
       "      <td>12-02-2024</td>\n",
       "      <td>0</td>\n",
       "      <td>1</td>\n",
       "      <td>10</td>\n",
       "      <td>0</td>\n",
       "      <td>0</td>\n",
       "    </tr>\n",
       "    <tr>\n",
       "      <th>1</th>\n",
       "      <td>12-02-2024</td>\n",
       "      <td>1</td>\n",
       "      <td>2</td>\n",
       "      <td>10</td>\n",
       "      <td>0</td>\n",
       "      <td>0</td>\n",
       "    </tr>\n",
       "    <tr>\n",
       "      <th>2</th>\n",
       "      <td>12-02-2024</td>\n",
       "      <td>2</td>\n",
       "      <td>2</td>\n",
       "      <td>5</td>\n",
       "      <td>0</td>\n",
       "      <td>0</td>\n",
       "    </tr>\n",
       "    <tr>\n",
       "      <th>3</th>\n",
       "      <td>12-02-2024</td>\n",
       "      <td>3</td>\n",
       "      <td>1</td>\n",
       "      <td>10</td>\n",
       "      <td>0</td>\n",
       "      <td>0</td>\n",
       "    </tr>\n",
       "    <tr>\n",
       "      <th>4</th>\n",
       "      <td>12-02-2024</td>\n",
       "      <td>4</td>\n",
       "      <td>2</td>\n",
       "      <td>5</td>\n",
       "      <td>0</td>\n",
       "      <td>0</td>\n",
       "    </tr>\n",
       "  </tbody>\n",
       "</table>\n",
       "</div>"
      ],
      "text/plain": [
       "         date  id_exercice  nb_series  nb_repetition  weight  nb_bars\n",
       "0  12-02-2024            0          1             10       0        0\n",
       "1  12-02-2024            1          2             10       0        0\n",
       "2  12-02-2024            2          2              5       0        0\n",
       "3  12-02-2024            3          1             10       0        0\n",
       "4  12-02-2024            4          2              5       0        0"
      ]
     },
     "execution_count": 30,
     "metadata": {},
     "output_type": "execute_result"
    }
   ],
   "source": [
    "print(\"Workout Data:\")\n",
    "workout_data.head()"
   ]
  },
  {
   "cell_type": "code",
   "execution_count": 31,
   "metadata": {},
   "outputs": [
    {
     "name": "stdout",
     "output_type": "stream",
     "text": [
      "\n",
      "Exercises Data:\n"
     ]
    },
    {
     "data": {
      "text/html": [
       "<div>\n",
       "<style scoped>\n",
       "    .dataframe tbody tr th:only-of-type {\n",
       "        vertical-align: middle;\n",
       "    }\n",
       "\n",
       "    .dataframe tbody tr th {\n",
       "        vertical-align: top;\n",
       "    }\n",
       "\n",
       "    .dataframe thead th {\n",
       "        text-align: right;\n",
       "    }\n",
       "</style>\n",
       "<table border=\"1\" class=\"dataframe\">\n",
       "  <thead>\n",
       "    <tr style=\"text-align: right;\">\n",
       "      <th></th>\n",
       "      <th>id_exercice</th>\n",
       "      <th>name_exercice</th>\n",
       "    </tr>\n",
       "  </thead>\n",
       "  <tbody>\n",
       "    <tr>\n",
       "      <th>0</th>\n",
       "      <td>0</td>\n",
       "      <td>90/90</td>\n",
       "    </tr>\n",
       "    <tr>\n",
       "      <th>1</th>\n",
       "      <td>1</td>\n",
       "      <td>Split squat</td>\n",
       "    </tr>\n",
       "    <tr>\n",
       "      <th>2</th>\n",
       "      <td>2</td>\n",
       "      <td>Cossak squat</td>\n",
       "    </tr>\n",
       "    <tr>\n",
       "      <th>3</th>\n",
       "      <td>3</td>\n",
       "      <td>Deep squat into harmstring stretch</td>\n",
       "    </tr>\n",
       "    <tr>\n",
       "      <th>4</th>\n",
       "      <td>4</td>\n",
       "      <td>Thoracic twist</td>\n",
       "    </tr>\n",
       "  </tbody>\n",
       "</table>\n",
       "</div>"
      ],
      "text/plain": [
       "   id_exercice                       name_exercice\n",
       "0            0                               90/90\n",
       "1            1                         Split squat\n",
       "2            2                        Cossak squat\n",
       "3            3  Deep squat into harmstring stretch\n",
       "4            4                      Thoracic twist"
      ]
     },
     "execution_count": 31,
     "metadata": {},
     "output_type": "execute_result"
    }
   ],
   "source": [
    "print(\"\\nExercises Data:\")\n",
    "exercises.head()"
   ]
  },
  {
   "cell_type": "code",
   "execution_count": 32,
   "metadata": {},
   "outputs": [],
   "source": [
    "workout_data = workout_data.merge(exercises, on=\"id_exercice\", how=\"left\")"
   ]
  },
  {
   "cell_type": "code",
   "execution_count": 33,
   "metadata": {},
   "outputs": [
    {
     "name": "stdout",
     "output_type": "stream",
     "text": [
      "\n",
      "Merged Workout Data:\n"
     ]
    },
    {
     "data": {
      "text/html": [
       "<div>\n",
       "<style scoped>\n",
       "    .dataframe tbody tr th:only-of-type {\n",
       "        vertical-align: middle;\n",
       "    }\n",
       "\n",
       "    .dataframe tbody tr th {\n",
       "        vertical-align: top;\n",
       "    }\n",
       "\n",
       "    .dataframe thead th {\n",
       "        text-align: right;\n",
       "    }\n",
       "</style>\n",
       "<table border=\"1\" class=\"dataframe\">\n",
       "  <thead>\n",
       "    <tr style=\"text-align: right;\">\n",
       "      <th></th>\n",
       "      <th>date</th>\n",
       "      <th>id_exercice</th>\n",
       "      <th>nb_series</th>\n",
       "      <th>nb_repetition</th>\n",
       "      <th>weight</th>\n",
       "      <th>nb_bars</th>\n",
       "      <th>name_exercice</th>\n",
       "    </tr>\n",
       "  </thead>\n",
       "  <tbody>\n",
       "    <tr>\n",
       "      <th>0</th>\n",
       "      <td>12-02-2024</td>\n",
       "      <td>0</td>\n",
       "      <td>1</td>\n",
       "      <td>10</td>\n",
       "      <td>0</td>\n",
       "      <td>0</td>\n",
       "      <td>90/90</td>\n",
       "    </tr>\n",
       "    <tr>\n",
       "      <th>1</th>\n",
       "      <td>12-02-2024</td>\n",
       "      <td>1</td>\n",
       "      <td>2</td>\n",
       "      <td>10</td>\n",
       "      <td>0</td>\n",
       "      <td>0</td>\n",
       "      <td>Split squat</td>\n",
       "    </tr>\n",
       "    <tr>\n",
       "      <th>2</th>\n",
       "      <td>12-02-2024</td>\n",
       "      <td>2</td>\n",
       "      <td>2</td>\n",
       "      <td>5</td>\n",
       "      <td>0</td>\n",
       "      <td>0</td>\n",
       "      <td>Cossak squat</td>\n",
       "    </tr>\n",
       "    <tr>\n",
       "      <th>3</th>\n",
       "      <td>12-02-2024</td>\n",
       "      <td>3</td>\n",
       "      <td>1</td>\n",
       "      <td>10</td>\n",
       "      <td>0</td>\n",
       "      <td>0</td>\n",
       "      <td>Deep squat into harmstring stretch</td>\n",
       "    </tr>\n",
       "    <tr>\n",
       "      <th>4</th>\n",
       "      <td>12-02-2024</td>\n",
       "      <td>4</td>\n",
       "      <td>2</td>\n",
       "      <td>5</td>\n",
       "      <td>0</td>\n",
       "      <td>0</td>\n",
       "      <td>Thoracic twist</td>\n",
       "    </tr>\n",
       "  </tbody>\n",
       "</table>\n",
       "</div>"
      ],
      "text/plain": [
       "         date  id_exercice  nb_series  nb_repetition  weight  nb_bars  \\\n",
       "0  12-02-2024            0          1             10       0        0   \n",
       "1  12-02-2024            1          2             10       0        0   \n",
       "2  12-02-2024            2          2              5       0        0   \n",
       "3  12-02-2024            3          1             10       0        0   \n",
       "4  12-02-2024            4          2              5       0        0   \n",
       "\n",
       "                        name_exercice  \n",
       "0                               90/90  \n",
       "1                         Split squat  \n",
       "2                        Cossak squat  \n",
       "3  Deep squat into harmstring stretch  \n",
       "4                      Thoracic twist  "
      ]
     },
     "execution_count": 33,
     "metadata": {},
     "output_type": "execute_result"
    }
   ],
   "source": [
    "print(\"\\nMerged Workout Data:\")\n",
    "workout_data.head()\n"
   ]
  },
  {
   "cell_type": "markdown",
   "metadata": {},
   "source": [
    "# Répétition "
   ]
  },
  {
   "cell_type": "code",
   "execution_count": 34,
   "metadata": {},
   "outputs": [
    {
     "name": "stdout",
     "output_type": "stream",
     "text": [
      "\n",
      "Total Series and Repetitions per Exercise:\n",
      "                         name_exercice  nb_series  nb_repetition\n",
      "0                                90/90         81            810\n",
      "1                         Barbell curl         99            330\n",
      "2               Barbell overhead press         91            325\n",
      "3                          Bench press        124            370\n",
      "4                       Bent over row          63            210\n",
      "5                       Bicycle crunch        123           1925\n",
      "6                          Calf raises         44            550\n",
      "7                              Cat cow         81            405\n",
      "8            Child pose into seal pose         81            405\n",
      "9                         Cossak squat        162            405\n",
      "10  Deep squat into harmstring stretch         81            892\n",
      "11                                Dips         39            195\n",
      "12                Dumbbell hammer curl          9             30\n",
      "13              Dumbbell incline chest         72            240\n",
      "14                   Dumbbell pullover         63            210\n",
      "15             Dumbbell row unilateral         42            315\n",
      "16                   Dumbbell shoulder         72            240\n",
      "17               Dumbbell side lateral         74            435\n",
      "18              Dumbbell skull crusher         27             90\n",
      "19                      Elastique curl         36            180\n",
      "20                           Face pull         27            135\n",
      "21                           Kickbacks         42            625\n",
      "22                          Leg raises         60            450\n",
      "23                         Pompe chest         84            355\n",
      "24                   Pull over barbell         36            122\n",
      "25                  Romanian dead lift         67            220\n",
      "26                      Rowing Barbell         48            120\n",
      "27                       Russian twist         87           1350\n",
      "28                     Seated leg curl         66            220\n",
      "29                         Split squat        182           1290\n",
      "30                               Squat         42            355\n",
      "31                    Standing Barbell         42            210\n",
      "32          Standing overhead dumbbell         18             60\n",
      "33                      Thoracic twist        162            405\n",
      "34                    Tirage elastique         36            180\n",
      "35                               V-sit         87           1350\n"
     ]
    }
   ],
   "source": [
    "exercise_summary = workout_data.groupby(\"name_exercice\").agg({\n",
    "    \"nb_series\": \"sum\",\n",
    "    \"nb_repetition\": \"sum\"\n",
    "}).reset_index()\n",
    "\n",
    "print(\"\\nTotal Series and Repetitions per Exercise:\")\n",
    "print(exercise_summary)\n"
   ]
  },
  {
   "cell_type": "code",
   "execution_count": 35,
   "metadata": {},
   "outputs": [
    {
     "name": "stdout",
     "output_type": "stream",
     "text": [
      "\n",
      " Mean Series and Repetitions per Exercise:\n",
      "                         name_exercice  nb_series  nb_repetition\n",
      "0                                90/90   1.000000      10.000000\n",
      "1                         Barbell curl   3.000000      10.000000\n",
      "2               Barbell overhead press   3.500000      12.500000\n",
      "3                          Bench press   3.351351      10.000000\n",
      "4                       Bent over row    3.000000      10.000000\n",
      "5                       Bicycle crunch   1.518519      23.765432\n",
      "6                          Calf raises   2.000000      25.000000\n",
      "7                              Cat cow   1.000000       5.000000\n",
      "8            Child pose into seal pose   1.000000       5.000000\n",
      "9                         Cossak squat   2.000000       5.000000\n",
      "10  Deep squat into harmstring stretch   1.000000      11.012346\n",
      "11                                Dips   3.000000      15.000000\n",
      "12                Dumbbell hammer curl   3.000000      10.000000\n",
      "13              Dumbbell incline chest   3.000000      10.000000\n",
      "14                   Dumbbell pullover   3.000000      10.000000\n",
      "15             Dumbbell row unilateral   2.000000      15.000000\n",
      "16                   Dumbbell shoulder   3.000000      10.000000\n",
      "17               Dumbbell side lateral   2.000000      11.756757\n",
      "18              Dumbbell skull crusher   3.000000      10.000000\n",
      "19                      Elastique curl   3.000000      15.000000\n",
      "20                           Face pull   3.000000      15.000000\n",
      "21                           Kickbacks   1.000000      14.880952\n",
      "22                          Leg raises   2.000000      15.000000\n",
      "23                         Pompe chest   3.000000      12.678571\n",
      "24                   Pull over barbell   3.000000      10.166667\n",
      "25                  Romanian dead lift   3.045455      10.000000\n",
      "26                      Rowing Barbell   4.000000      10.000000\n",
      "27                       Russian twist   1.933333      30.000000\n",
      "28                     Seated leg curl   3.000000      10.000000\n",
      "29                         Split squat   2.000000      14.175824\n",
      "30                               Squat   2.625000      22.187500\n",
      "31                    Standing Barbell   2.000000      10.000000\n",
      "32          Standing overhead dumbbell   3.000000      10.000000\n",
      "33                      Thoracic twist   2.000000       5.000000\n",
      "34                    Tirage elastique   3.000000      15.000000\n",
      "35                               V-sit   1.933333      30.000000\n"
     ]
    }
   ],
   "source": [
    "exercise_summary = workout_data.groupby(\"name_exercice\").agg({\n",
    "    \"nb_series\": \"mean\",\n",
    "    \"nb_repetition\": \"mean\"\n",
    "}).reset_index()\n",
    "\n",
    "print(\"\\n Mean Series and Repetitions per Exercise:\")\n",
    "print(exercise_summary)"
   ]
  }
 ],
 "metadata": {
  "kernelspec": {
   "display_name": ".venv",
   "language": "python",
   "name": "python3"
  },
  "language_info": {
   "codemirror_mode": {
    "name": "ipython",
    "version": 3
   },
   "file_extension": ".py",
   "mimetype": "text/x-python",
   "name": "python",
   "nbconvert_exporter": "python",
   "pygments_lexer": "ipython3",
   "version": "3.11.9"
  }
 },
 "nbformat": 4,
 "nbformat_minor": 2
}
